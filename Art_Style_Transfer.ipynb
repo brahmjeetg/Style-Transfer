{
  "nbformat": 4,
  "nbformat_minor": 0,
  "metadata": {
    "colab": {
      "name": "Art Style Transfer",
      "private_outputs": true,
      "provenance": [],
      "collapsed_sections": [],
      "authorship_tag": "ABX9TyOfhAt6xye1JNdSYpU0ELFP",
      "include_colab_link": true
    },
    "kernelspec": {
      "name": "python3",
      "display_name": "Python 3"
    }
  },
  "cells": [
    {
      "cell_type": "markdown",
      "metadata": {
        "id": "view-in-github",
        "colab_type": "text"
      },
      "source": [
        "<a href=\"https://colab.research.google.com/github/brahmjeetg/Style-Transfer/blob/main/Art_Style_Transfer.ipynb\" target=\"_parent\"><img src=\"https://colab.research.google.com/assets/colab-badge.svg\" alt=\"Open In Colab\"/></a>"
      ]
    },
    {
      "cell_type": "code",
      "metadata": {
        "id": "j-WL7px6O2-W"
      },
      "source": [
        "!pip install imshow\r\n",
        "!pip install wget"
      ],
      "execution_count": null,
      "outputs": []
    },
    {
      "cell_type": "code",
      "metadata": {
        "id": "U0Ftw9IXIK5G"
      },
      "source": [
        "import os\r\n",
        "import sys\r\n",
        "import numpy as np\r\n",
        "import cv2\r\n",
        "from google.colab.patches import cv2_imshow\r\n",
        "import tensorflow as tf\r\n",
        "import matplotlib.pyplot as plt\r\n",
        "import imshow\r\n",
        "from PIL import Image \r\n",
        "from __future__ import division\r\n",
        "%matplotlib inline"
      ],
      "execution_count": null,
      "outputs": []
    },
    {
      "cell_type": "code",
      "metadata": {
        "id": "7T6TXV3cOvXQ"
      },
      "source": [
        "OUTPUT_DIR = 'output/'\r\n",
        "STYLE_IMAGE = '/content/603px-Mona_Lisa,_by_Leonardo_da_Vinci,_from_C2RMF_retouched.jpg'\r\n",
        "CONTENT_IMAGE = '/content/Johnny-Depp.jpg'"
      ],
      "execution_count": null,
      "outputs": []
    },
    {
      "cell_type": "code",
      "metadata": {
        "id": "DXobUixVj1mn"
      },
      "source": [
        "import wget\r\n",
        "url = 'https://www.vlfeat.org/matconvnet/models/beta16/imagenet-vgg-verydeep-19.mat'\r\n",
        "VGG_MODEL = wget.download(url)"
      ],
      "execution_count": null,
      "outputs": []
    },
    {
      "cell_type": "code",
      "metadata": {
        "id": "Onb4rwFxTGp5"
      },
      "source": [
        "NOISE_RATIO = 0.6\r\n",
        "BETA = 5\r\n",
        "ALPHA = 100\r\n",
        "MEAN_VALUES = np.array([123.68, 116.779, 103.939]).reshape((1,1,1,3))"
      ],
      "execution_count": null,
      "outputs": []
    },
    {
      "cell_type": "code",
      "metadata": {
        "id": "JG063UlYjgrI"
      },
      "source": [
        "content_image = cv2.imread(CONTENT_IMAGE, cv2.IMREAD_UNCHANGED)\r\n",
        "cv2_imshow(content_image)"
      ],
      "execution_count": null,
      "outputs": []
    },
    {
      "cell_type": "code",
      "metadata": {
        "id": "LHw8rwPKlFuz"
      },
      "source": [
        "style_image = cv2.imread(STYLE_IMAGE, cv2.IMREAD_UNCHANGED)\r\n",
        "cv2_imshow(style_image)"
      ],
      "execution_count": null,
      "outputs": []
    },
    {
      "cell_type": "code",
      "metadata": {
        "id": "bQtTw14NpLTC"
      },
      "source": [
        "target_shape = content_image.shape\r\n",
        "print(\"target_shape=\", target_shape)\r\n",
        "print(\"style_shape=\", style_image.shape)"
      ],
      "execution_count": null,
      "outputs": []
    },
    {
      "cell_type": "code",
      "metadata": {
        "id": "B1isUGH7pTC6"
      },
      "source": [
        "ratio = target_shape[1]/style_image.shape[1]\r\n",
        "print(\"resize ratio=\", ratio)"
      ],
      "execution_count": null,
      "outputs": []
    },
    {
      "cell_type": "code",
      "metadata": {
        "id": "aLhtonn4q9_L"
      },
      "source": [
        "style_image = cv2.resize(style_image, (500, 500),interpolation=cv2.INTER_AREA)\r\n",
        "cv2_imshow(style_image)\r\n",
        "cv2.waitKey(0)\r\n",
        "cv2.destroyAllWindows()"
      ],
      "execution_count": null,
      "outputs": []
    },
    {
      "cell_type": "code",
      "metadata": {
        "id": "EHjBOCAx44s8"
      },
      "source": [
        "ratio = target_shape[1]/style_image.shape[1]\r\n",
        "print(\"resize ratio=\", ratio)"
      ],
      "execution_count": null,
      "outputs": []
    },
    {
      "cell_type": "code",
      "metadata": {
        "id": "IcKGQ24S5QTN"
      },
      "source": [
        "def load_vgg_model(path, image_height, image_width, color_channels):\r\n",
        "  vgg = scipy.io.loadmat(path)\r\n",
        "  vgg_layers = vgg['layers']"
      ],
      "execution_count": null,
      "outputs": []
    },
    {
      "cell_type": "code",
      "metadata": {
        "id": "VG7-WTPt6QOZ"
      },
      "source": [
        "def _weights(layer, expected_layer_name):\r\n",
        "  W = vgg_layers[0][layer]"
      ],
      "execution_count": null,
      "outputs": []
    }
  ]
}